{
 "cells": [
  {
   "cell_type": "code",
   "execution_count": 1,
   "metadata": {
    "collapsed": false,
    "scrolled": true
   },
   "outputs": [
    {
     "data": {
      "text/html": [
       "<script>\n",
       "code_show=true; \n",
       "function code_toggle() {\n",
       " if (code_show){\n",
       " $('div.input').hide();\n",
       " } else {\n",
       " $('div.input').show();\n",
       " }\n",
       " code_show = !code_show\n",
       "} \n",
       "$( document ).ready(code_toggle);\n",
       "</script>\n",
       "<form action=\"javascript:code_toggle()\"><input type=\"submit\" value=\"Показване/скриване на кода.\"></form>"
      ],
      "text/plain": [
       "<IPython.core.display.HTML object>"
      ]
     },
     "execution_count": 1,
     "metadata": {},
     "output_type": "execute_result"
    }
   ],
   "source": [
    "%matplotlib inline\n",
    "from IPython.display import display, Math, Latex, HTML\n",
    "import numpy as np\n",
    "import scipy as sp\n",
    "import scipy.optimize\n",
    "import scipy.integrate\n",
    "import matplotlib.pyplot as plt\n",
    "import ipywidgets as widgets\n",
    "from ipywidgets import interact, interactive, fixed\n",
    "\n",
    "\n",
    "plt.rcParams['figure.figsize'] = (10,8)\n",
    "\n",
    "HTML('''<script>\n",
    "code_show=true; \n",
    "function code_toggle() {\n",
    " if (code_show){\n",
    " $('div.input').hide();\n",
    " } else {\n",
    " $('div.input').show();\n",
    " }\n",
    " code_show = !code_show\n",
    "} \n",
    "$( document ).ready(code_toggle);\n",
    "</script>\n",
    "<form action=\"javascript:code_toggle()\"><input type=\"submit\" value=\"Показване/скриване на кода.\"></form>''')"
   ]
  },
  {
   "cell_type": "code",
   "execution_count": 2,
   "metadata": {
    "collapsed": true
   },
   "outputs": [],
   "source": [
    "n = 0.02\n",
    "delta = 0.05\n",
    "s = 0.2\n",
    "A = 1\n",
    "alpha = 0.3\n",
    "k0 = 1\n",
    "Tmax = 150\n",
    "\n",
    "def f(k,TFP,al):\n",
    "    return TFP*k**al\n",
    "\n",
    "k = np.arange(0,6,0.1)"
   ]
  },
  {
   "cell_type": "code",
   "execution_count": 3,
   "metadata": {
    "collapsed": true
   },
   "outputs": [],
   "source": [
    "def ComputeSSk(s,n,delta,maxk,pf,*args):\n",
    "    \"\"\"Computes the steady state capital per capita in the Solow growth model\"\"\"\n",
    "    sol = sp.optimize.brentq(lambda k:s*pf(k,*args)-(n+delta)*k,0.0001,maxk*100)\n",
    "    return sol"
   ]
  },
  {
   "cell_type": "code",
   "execution_count": 4,
   "metadata": {
    "collapsed": true
   },
   "outputs": [],
   "source": [
    "def ComputeCons(S,K,pf,*args):\n",
    "    \"\"\"Computes the current consumption per capita\"\"\"\n",
    "    return (1-S)*pf(K,*args) # "
   ]
  },
  {
   "cell_type": "code",
   "execution_count": 5,
   "metadata": {
    "collapsed": false
   },
   "outputs": [],
   "source": [
    "def ComputeSgold(n,delta,maxk,pf,*args):\n",
    "    \"\"\"Computes the consumption-maximizing savings rate, s_gold\"\"\"\n",
    "    res = sp.optimize.minimize_scalar(lambda S:-ComputeCons(S,ComputeSSk(S,n,delta,maxk,pf,*args),pf,*args), \n",
    "                                      method='bounded', bounds=(0,1))\n",
    "    return res.x"
   ]
  },
  {
   "cell_type": "code",
   "execution_count": 6,
   "metadata": {
    "collapsed": true
   },
   "outputs": [],
   "source": [
    "def plotPFandDepr(s0,n0,delta0,A0,alpha0,s1,n1,delta1,A1,alpha1,kmax):\n",
    "    try:\n",
    "        k0ss = ComputeSSk(s0,n0,delta0,kmax,f,A0,alpha0)\n",
    "        k1ss = ComputeSSk(s1,n1,delta1,kmax,f,A1,alpha1)\n",
    "    except ValueError:\n",
    "        print(\"За тези параметри не може да бъде пресметнато стационарно състояние!\")\n",
    "        return None\n",
    "    sF0ss = (n0+delta0)*k0ss\n",
    "    sF1ss = (n1+delta1)*k1ss\n",
    "    ub = int(round(max(kmax,k0ss,k1ss)))+1\n",
    "    k = np.arange(0,ub,0.1)\n",
    "    sF0 = s0*f(k,A0,alpha0)\n",
    "    ndk0 = (n0+delta0)*k\n",
    "    sF1 = s1*f(k,A1,alpha1)\n",
    "    ndk1 = (n1+delta1)*k\n",
    "    plt.plot(k,sF0,'k-',linewidth=2)\n",
    "    plt.plot(k,ndk0,'k--',linewidth=1.5)\n",
    "    \n",
    "    plt.plot((k0ss, k0ss), (0, sF0ss),'k--')\n",
    "    plt.text(k0ss+0.01,0.01,r'$k^{*}$',fontsize=18)\n",
    "    \n",
    "    plt.plot(k,sF1,'b-',linewidth=2)\n",
    "    plt.plot(k,ndk1,'b--',linewidth=1.8)\n",
    "\n",
    "    plt.plot((k1ss, k1ss), (0, sF1ss),'b--')\n",
    "    plt.text(k1ss+0.01,0.05,r'$k^{**}$',fontsize=18,color = 'b')\n",
    "    \n",
    "    plt.xlabel(r'$k$',fontsize = 18)\n",
    "    plt.xlim((0,None))\n",
    "    plt.ylim((0,None))\n",
    "    plt.show()"
   ]
  },
  {
   "cell_type": "code",
   "execution_count": 7,
   "metadata": {
    "collapsed": false
   },
   "outputs": [],
   "source": [
    "def plotConsToScompare(n0,delta0,A0,alpha0,n1,delta1,A1,alpha1,f,maxk):\n",
    "    \"\"\"Produces a plot of steady state consumption as a function of savings\"\"\"\n",
    "    Cons0=[]\n",
    "    Cons1=[]\n",
    "    Srates = np.arange(0.001,1.01,0.01)\n",
    "    for S in Srates:\n",
    "        try:\n",
    "            Cons0.append(ComputeCons(S,ComputeSSk(S,n0,delta0,maxk,f,A0,alpha0),f,A0,alpha0))\n",
    "            Cons1.append(ComputeCons(S,ComputeSSk(S,n1,delta1,maxk,f,A1,alpha1),f,A1,alpha1))\n",
    "        except ValueError:\n",
    "            print(\"За тези параметри не може да бъде пресметнато стационарно състояние!\")\n",
    "            return None\n",
    "    Cons0 = np.array(Cons0)\n",
    "    Cons1 = np.array(Cons1)\n",
    "    plt.plot(Srates,Cons0,color='k')\n",
    "    plt.plot(Srates,Cons1,color='b')\n",
    "    plt.xlim((0,1))\n",
    "    plt.ylim(0)\n",
    "    plt.xlabel(r\"$S$\",fontsize=18)\n",
    "    plt.ylabel(r\"$C$\",rotation=0,fontsize=18,horizontalalignment='right')\n",
    "    Sgold0 = ComputeSgold(n0,delta0,maxk,f,A0,alpha0)\n",
    "    Sgold1 = ComputeSgold(n1,delta1,maxk,f,A1,alpha1)\n",
    "    plt.axvline(x=Sgold0,linewidth=2, color='k')\n",
    "    plt.text(Sgold0,0.03,r'$S_{gold,0}$',fontsize=18)\n",
    "    plt.axvline(x=Sgold1,linewidth=2, color='b')\n",
    "    plt.text(Sgold1,0.13,r'$S_{gold,1}$',fontsize=18,color='b')\n",
    "    plt.show()"
   ]
  },
  {
   "cell_type": "code",
   "execution_count": 8,
   "metadata": {
    "collapsed": false
   },
   "outputs": [],
   "source": [
    "def SolowSols(kinit0,s0,n0,delta0,A0,alpha0, kinit1,s1,n1,delta1,A1,alpha1,Tmax, f, kmax):\n",
    "    try:\n",
    "        k0ss = ComputeSSk(s0,n0,delta0,kmax,f,A0,alpha0)\n",
    "        k1ss = ComputeSSk(s1,n1,delta1,kmax,f,A1,alpha1)\n",
    "    except ValueError:\n",
    "        print(\"За тези параметри не може да бъде пресметнато стационарно състояние!\")\n",
    "        return None\n",
    "    ymax = max(k0ss,k1ss)+1\n",
    "    t = np.arange(0,Tmax,0.1)\n",
    "    def rhs(k,t,s,n,delta,A,alpha):\n",
    "        return s*f(k,A,alpha)-(n+delta)*k\n",
    "    k00 = np.array([kinit0])\n",
    "    k01 = np.array([kinit1])\n",
    "\n",
    "    y0 = sp.integrate.odeint(rhs,k00,t,args = (s0,n0,delta0,A0,alpha0))\n",
    "    y1 = sp.integrate.odeint(rhs,k01,t,args = (s1,n1,delta1,A1,alpha1))\n",
    "    plt.plot(t,y0,'k')\n",
    "    plt.plot(t,y1,'b')\n",
    "    plt.ylim(0,ymax)\n",
    "    plt.xlim(0,None)\n",
    "    plt.xlabel(r\"$t$\",fontsize=18)\n",
    "    plt.ylabel(r\"$k$\",rotation=0,fontsize=18,horizontalalignment='right')\n",
    "    plt.axhline(y=k0ss,linewidth=2, color='k')\n",
    "    plt.text(1,k0ss+0.05,r'$k^{*}$',fontsize=18)\n",
    "    plt.axhline(y=k1ss,linewidth=2, color='b')\n",
    "    plt.text(10,k1ss+0.05,r'$k^{**}$',fontsize=18,color = 'b')\n",
    "    plt.show()"
   ]
  },
  {
   "cell_type": "markdown",
   "metadata": {},
   "source": [
    "# Модел на Солоу-Суон"
   ]
  },
  {
   "cell_type": "markdown",
   "metadata": {},
   "source": [
    "## Основна структура на модела на Солоу-Суон: формиране и амортизиране на капитала на глава от населението"
   ]
  },
  {
   "cell_type": "code",
   "execution_count": 9,
   "metadata": {
    "collapsed": false
   },
   "outputs": [],
   "source": [
    "s1 = widgets.FloatSlider(min=max(0,s-0.05),max=min(1,s+0.05),step=0.01,value=s,description=r\"$s_1$\",continuous_update=True)\n",
    "n1 = widgets.FloatSlider(min=0,max=n+0.05,step=0.01,value=n,description=r\"$n_1$\",continuous_update=True) \n",
    "delta1 = widgets.FloatSlider(min=0.02,max=delta+0.05,step=0.01,value=delta,description=r\"$\\delta_1$\",continuous_update=True) \n",
    "A1 = widgets.FloatSlider(min=0.01,max=A+0.2,step=0.01,value=A,description=r\"$A_1$\",continuous_update=True)\n",
    "alpha1 = widgets.FloatSlider(min=alpha-0.1,max=alpha+0.1,step=0.01,value=alpha,description=r\"$\\alpha_1$\",continuous_update=True)\n",
    "\n",
    "wPFD = interactive(plotPFandDepr,\n",
    "                s0 = fixed(s),\n",
    "                n0 = fixed(n),\n",
    "                delta0 = fixed(delta), \n",
    "                A0 = fixed(A),\n",
    "                alpha0 = fixed(alpha),\n",
    "                s1 = s1,\n",
    "                n1 = n1, \n",
    "                delta1 = delta1, \n",
    "                A1 = A1,\n",
    "                alpha1 = alpha1,\n",
    "                kmax = fixed(np.max(k)),\n",
    "                __manual=True)\n",
    "wPFD.children[-1].description = \"Покажи\"\n",
    "display(wPFD)"
   ]
  },
  {
   "cell_type": "markdown",
   "metadata": {},
   "source": [
    "## Динамика на капитала на глава от населението"
   ]
  },
  {
   "cell_type": "code",
   "execution_count": 10,
   "metadata": {
    "collapsed": false
   },
   "outputs": [],
   "source": [
    "kinit1b = widgets.FloatSlider(min=max(0,k0-0.05),max=k0+5,step=0.01,value=k0,description=r\"$k_{0,1}$\",continuous_update=True)\n",
    "s1b = widgets.FloatSlider(min=max(0,s-0.05),max=min(1,s+0.05),step=0.01,value=s,description=r\"$s_1$\",continuous_update=True)\n",
    "n1b = widgets.FloatSlider(min=0,max=n+0.04,step=0.01,value=n,description=r\"$n_1$\",continuous_update=True) \n",
    "delta1b = widgets.FloatSlider(min=0.02,max=delta+0.05,step=0.01,value=delta,description=r\"$\\delta_1$\",continuous_update=True) \n",
    "A1b = widgets.FloatSlider(min=0.01,max=A+0.2,step=0.01,value=A,description=r\"$A_1$\",continuous_update=True)\n",
    "alpha1b = widgets.FloatSlider(min=alpha-0.1,max=alpha+0.1,step=0.01,value=alpha,description=r\"$\\alpha_1$\",continuous_update=True)\n",
    "Tmaxb = widgets.BoundedFloatText(min=0.1,max=Tmax+200,step=0.01,value=Tmax,description=r\"$T$\",continuous_update=True)\n",
    "\n",
    "wSSols = interactive(SolowSols,\n",
    "                kinit0 = fixed(k0),\n",
    "                s0 = fixed(s),\n",
    "                n0 = fixed(n),\n",
    "                delta0 = fixed(delta), \n",
    "                A0 = fixed(A),\n",
    "                alpha0 = fixed(alpha),\n",
    "                kinit1 = kinit1b,\n",
    "                s1 = s1b,\n",
    "                n1 = n1b, \n",
    "                delta1 = delta1b, \n",
    "                A1 = A1b,\n",
    "                alpha1 = alpha1b,\n",
    "                Tmax = Tmaxb,\n",
    "                f=fixed(f),\n",
    "                kmax = fixed(np.max(k)),\n",
    "                __manual=True)\n",
    "wSSols.children[-1].description = \"Покажи\"\n",
    "display(wSSols)"
   ]
  },
  {
   "cell_type": "markdown",
   "metadata": {},
   "source": [
    "## Спестявания, максимизиращи потреблението: \"златното правило\" за коефициента на спестявания"
   ]
  },
  {
   "cell_type": "code",
   "execution_count": 11,
   "metadata": {
    "collapsed": false
   },
   "outputs": [],
   "source": [
    "n1a = widgets.FloatSlider(min=0,max=n+0.04,step=0.01,value=n,description=r\"$n_1$\",continuous_update=True) \n",
    "delta1a = widgets.FloatSlider(min=0.02,max=delta+0.05,step=0.01,value=delta,description=r\"$\\delta_1$\",continuous_update=True) \n",
    "A1a = widgets.FloatSlider(min=0.01,max=A+0.2,step=0.01,value=A,description=r\"$A_1$\",continuous_update=True)\n",
    "alpha1a = widgets.FloatSlider(min=alpha-0.1,max=alpha+0.1,step=0.01,value=alpha,description=r\"$\\alpha_1$\",continuous_update=True)\n",
    "\n",
    "wPFD = interactive(plotConsToScompare,\n",
    "                n0 = fixed(n),\n",
    "                delta0 = fixed(delta), \n",
    "                A0 = fixed(A),\n",
    "                alpha0 = fixed(alpha),\n",
    "                n1 = n1a, \n",
    "                delta1 = delta1a, \n",
    "                A1 = A1a,\n",
    "                alpha1 = alpha1a,\n",
    "                f=fixed(f),\n",
    "                maxk = fixed(np.max(k)),\n",
    "                __manual=True)\n",
    "wPFD.children[-1].description = \"Покажи\"\n",
    "display(wPFD)"
   ]
  }
 ],
 "metadata": {
  "kernelspec": {
   "display_name": "Python 3",
   "language": "python",
   "name": "python3"
  },
  "language_info": {
   "codemirror_mode": {
    "name": "ipython",
    "version": 3
   },
   "file_extension": ".py",
   "mimetype": "text/x-python",
   "name": "python",
   "nbconvert_exporter": "python",
   "pygments_lexer": "ipython3",
   "version": "3.6.0"
  },
  "widgets": {
   "state": {
    "5fce217fdc7d47e6936f47a479d071d9": {
     "views": [
      {
       "cell_index": 12
      }
     ]
    },
    "971a0f7aff254e709ba760e49a3d933e": {
     "views": [
      {
       "cell_index": 10
      }
     ]
    },
    "d0e373c72e31444097765e0214dbf706": {
     "views": [
      {
       "cell_index": 14
      }
     ]
    }
   },
   "version": "1.2.0"
  }
 },
 "nbformat": 4,
 "nbformat_minor": 1
}
